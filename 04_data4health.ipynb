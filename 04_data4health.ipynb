{
 "cells": [
  {
   "cell_type": "markdown",
   "metadata": {},
   "source": [
    "<div style=\"text-align: center;\">\n",
    "    <div style=\"display: inline-block;\">\n",
    "        <img src=\"dependencies/ghr_libraries/clim4health/tutorials/figures/general/logo_bsc.png\" width=\"275px\" height=\"275px\" />\n",
    "    </div>\n",
    "    <div style=\"display: inline-block;\">\n",
    "        <img src=\"dependencies/ghr_libraries/clim4health/tutorials/figures/general/logo_harmonize.png\" width=\"130px\" height=\"130px\" />\n",
    "    </div>\n",
    "    <br></br\n",
    "    <br></br>\n",
    "    <h1>Tutorial: <code>data4health</code></h1>\n",
    "    <img src=\"dependencies/ghr_libraries/clim4health/tutorials/figures/data4health.svg\" width=\"100\" height=\"100\" style=\"margin-left:-475px; margin-top: -300px;\">\n",
    "\n",
    "\n",
    "</div>\n",
    "<hr style=\"border: 1px solid #000; width: 80%; margin: 20px auto;\">"
   ]
  },
  {
   "cell_type": "markdown",
   "metadata": {
    "id": "SKdwQqr5lZhF"
   },
   "source": [
    "# Aggregating health data"
   ]
  },
  {
   "cell_type": "markdown",
   "metadata": {
    "id": "t8InmGDRt7nk"
   },
   "source": [
    "Before beginning to code, we always need to set up the R environment. This time, we will only load one R-package: *data4health*. Data4health is a package that we are developing at the moment. This means that the package is not yet published, you are among the first to use it!\n",
    "\n",
    "But this also means, that there still be errors. Please let us know if you encounter any and we will fix them asap. Likewise, if you can think of anything missing or anything you would like to add, let us know too!\n",
    "\n",
    "Thank you!\n",
    "\n",
    "\n"
   ]
  },
  {
   "cell_type": "code",
   "execution_count": 1,
   "metadata": {
    "id": "gTkhDuJolTyE",
    "scrolled": true
   },
   "outputs": [],
   "source": [
    "setwd(\"dependencies/ghr_libraries/harmonize.data4health\")\n",
    "source('./R/data4health_filter.r')\n",
    "source('./R/data4health_load.R')\n",
    "source('./R/data4health_aggregate.r')"
   ]
  },
  {
   "cell_type": "markdown",
   "metadata": {
    "id": "xDs4W87bAIqa"
   },
   "source": [
    "Now, let's get started! First of all, you need to load the health data in. In this case it is a 'csv' file. You can either choose to use a csv specific function like read.csv or use the umbrella function from the data4health package. The data4health package currently loads in csv, ecxel, rds, and many more formats!"
   ]
  },
  {
   "cell_type": "markdown",
   "metadata": {
    "id": "1V9wA1irlUBe"
   },
   "source": [
    "The object data, now contains ALL the clean data. But often, you don't want to use all the data. You can use the data4health_filter function for this."
   ]
  },
  {
   "cell_type": "code",
   "execution_count": 17,
   "metadata": {},
   "outputs": [
    {
     "name": "stdout",
     "output_type": "stream",
     "text": [
      "  ID    Name Age       Date     City Gender\n",
      "1  1   Alice  25 2023-01-15 New York Female\n",
      "2  2     Bob  30 2023-02-20   London   Male\n",
      "3  3 Charlie  22 2023-03-05    Paris   Male\n",
      "4  4   David  28 2023-04-10    Tokyo   Male\n",
      "5  5   Emily  35 2023-05-18   Sydney Female\n"
     ]
    }
   ],
   "source": [
    "data <- data.frame(\n",
    "  ID = c(1, 2, 3, 4, 5),\n",
    "  Name = c(\"Alice\", \"Bob\", \"Charlie\", \"David\", \"Emily\"),\n",
    "  Age = c(25, 30, 22, 28, 35),\n",
    "  Date = as.Date(c(\"2023-01-15\", \"2023-02-20\", \"2023-03-05\", \"2023-04-10\", \"2023-05-18\")),\n",
    "  City = c(\"New York\", \"London\", \"Paris\", \"Tokyo\", \"Sydney\"),\n",
    "  Gender = c('Female', 'Male', 'Male', 'Male', 'Female')\n",
    ")\n",
    "\n",
    "print(head(data))"
   ]
  },
  {
   "cell_type": "code",
   "execution_count": 16,
   "metadata": {
    "id": "VwRxItusAcja"
   },
   "outputs": [
    {
     "data": {
      "text/html": [
       "No documentation for 'data4health_filter' in specified packages and libraries:\n",
       "you could try '??data4health_filter'"
      ],
      "text/latex": [
       "No documentation for 'data4health_filter' in specified packages and libraries:\n",
       "you could try '??data4health_filter'"
      ],
      "text/plain": [
       "No documentation for 'data4health_filter' in specified packages and libraries:\n",
       "you could try '??data4health_filter'"
      ]
     },
     "metadata": {},
     "output_type": "display_data"
    }
   ],
   "source": [
    "?data4health_filter"
   ]
  },
  {
   "cell_type": "markdown",
   "metadata": {
    "id": "AT_wCBovAc9p"
   },
   "source": [
    "As you can see in the description for every column, you need to know whether the data is numeric, dates or character.\n",
    "\n",
    "*   Numeric: \"over\",\"under\", \"between\"\n",
    "*   Date: \"after\", \"before\", \"between\"\n",
    "*   character: \"include\", \"exclude\"\n",
    "\n",
    "You can filter as many or as little columns as you want. Here an example:"
   ]
  },
  {
   "cell_type": "code",
   "execution_count": 21,
   "metadata": {
    "id": "Wnqy7SDblUGR"
   },
   "outputs": [
    {
     "name": "stdout",
     "output_type": "stream",
     "text": [
      "  ID  Name Age       Date   City Gender\n",
      "2  2   Bob  30 2023-02-20 London   Male\n",
      "4  4 David  28 2023-04-10  Tokyo   Male\n"
     ]
    }
   ],
   "source": [
    "filtered_data <- data4health_filter(\n",
    "  data,\n",
    "  Age = list(over = 25),\n",
    "  Date = list(between = c(\"2023-02-10\", \"2023-04-15\"))\n",
    ")\n",
    "\n",
    "print(head(filtered_data))"
   ]
  },
  {
   "cell_type": "markdown",
   "metadata": {
    "id": "ONt3sgP9AvcJ"
   },
   "source": [
    "Afterwards we aggregate with the data4health_aggregate function."
   ]
  },
  {
   "cell_type": "code",
   "execution_count": 20,
   "metadata": {
    "id": "HgbWIeqAAuz7"
   },
   "outputs": [
    {
     "data": {
      "text/html": [
       "<table class=\"dataframe\">\n",
       "<caption>A data.frame: 10 × 3</caption>\n",
       "<thead>\n",
       "\t<tr><th scope=col>Date</th><th scope=col>Gender</th><th scope=col>freq</th></tr>\n",
       "\t<tr><th scope=col>&lt;fct&gt;</th><th scope=col>&lt;fct&gt;</th><th scope=col>&lt;int&gt;</th></tr>\n",
       "</thead>\n",
       "<tbody>\n",
       "\t<tr><td>2023-01-15</td><td>Female</td><td>1</td></tr>\n",
       "\t<tr><td>2023-02-20</td><td>Female</td><td>0</td></tr>\n",
       "\t<tr><td>2023-03-05</td><td>Female</td><td>0</td></tr>\n",
       "\t<tr><td>2023-04-10</td><td>Female</td><td>0</td></tr>\n",
       "\t<tr><td>2023-05-18</td><td>Female</td><td>1</td></tr>\n",
       "\t<tr><td>2023-01-15</td><td>Male  </td><td>0</td></tr>\n",
       "\t<tr><td>2023-02-20</td><td>Male  </td><td>1</td></tr>\n",
       "\t<tr><td>2023-03-05</td><td>Male  </td><td>1</td></tr>\n",
       "\t<tr><td>2023-04-10</td><td>Male  </td><td>1</td></tr>\n",
       "\t<tr><td>2023-05-18</td><td>Male  </td><td>0</td></tr>\n",
       "</tbody>\n",
       "</table>\n"
      ],
      "text/latex": [
       "A data.frame: 10 × 3\n",
       "\\begin{tabular}{lll}\n",
       " Date & Gender & freq\\\\\n",
       " <fct> & <fct> & <int>\\\\\n",
       "\\hline\n",
       "\t 2023-01-15 & Female & 1\\\\\n",
       "\t 2023-02-20 & Female & 0\\\\\n",
       "\t 2023-03-05 & Female & 0\\\\\n",
       "\t 2023-04-10 & Female & 0\\\\\n",
       "\t 2023-05-18 & Female & 1\\\\\n",
       "\t 2023-01-15 & Male   & 0\\\\\n",
       "\t 2023-02-20 & Male   & 1\\\\\n",
       "\t 2023-03-05 & Male   & 1\\\\\n",
       "\t 2023-04-10 & Male   & 1\\\\\n",
       "\t 2023-05-18 & Male   & 0\\\\\n",
       "\\end{tabular}\n"
      ],
      "text/markdown": [
       "\n",
       "A data.frame: 10 × 3\n",
       "\n",
       "| Date &lt;fct&gt; | Gender &lt;fct&gt; | freq &lt;int&gt; |\n",
       "|---|---|---|\n",
       "| 2023-01-15 | Female | 1 |\n",
       "| 2023-02-20 | Female | 0 |\n",
       "| 2023-03-05 | Female | 0 |\n",
       "| 2023-04-10 | Female | 0 |\n",
       "| 2023-05-18 | Female | 1 |\n",
       "| 2023-01-15 | Male   | 0 |\n",
       "| 2023-02-20 | Male   | 1 |\n",
       "| 2023-03-05 | Male   | 1 |\n",
       "| 2023-04-10 | Male   | 1 |\n",
       "| 2023-05-18 | Male   | 0 |\n",
       "\n"
      ],
      "text/plain": [
       "   Date       Gender freq\n",
       "1  2023-01-15 Female 1   \n",
       "2  2023-02-20 Female 0   \n",
       "3  2023-03-05 Female 0   \n",
       "4  2023-04-10 Female 0   \n",
       "5  2023-05-18 Female 1   \n",
       "6  2023-01-15 Male   0   \n",
       "7  2023-02-20 Male   1   \n",
       "8  2023-03-05 Male   1   \n",
       "9  2023-04-10 Male   1   \n",
       "10 2023-05-18 Male   0   "
      ]
     },
     "metadata": {},
     "output_type": "display_data"
    }
   ],
   "source": [
    "data4health_aggregate(data, time_col = \"Date\", space_col = \"Gender\")"
   ]
  }
 ],
 "metadata": {
  "colab": {
   "provenance": []
  },
  "kernelspec": {
   "display_name": "R",
   "language": "R",
   "name": "ir"
  },
  "language_info": {
   "codemirror_mode": "r",
   "file_extension": ".r",
   "mimetype": "text/x-r-source",
   "name": "R",
   "pygments_lexer": "r",
   "version": "4.4.2"
  }
 },
 "nbformat": 4,
 "nbformat_minor": 4
}
