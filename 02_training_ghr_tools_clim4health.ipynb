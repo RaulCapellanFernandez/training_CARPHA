{
 "cells": [
  {
   "cell_type": "markdown",
   "id": "6f4c6a0d-d13e-49b6-ad10-368a74f7bf2c",
   "metadata": {},
   "source": [
    "<div style=\"text-align: center;\">\n",
    "    <div style=\"display: inline-block;\">\n",
    "        <img src=\"dependencies/ghr_libraries/clim4health/tutorials/figures/general/logo_bsc.png\" width=\"275px\" height=\"275px\" />\n",
    "    </div>\n",
    "    <div style=\"display: inline-block;\">\n",
    "        <img src=\"dependencies/ghr_libraries/clim4health/tutorials/figures/general/logo_harmonize.png\" width=\"130px\" height=\"130px\" />\n",
    "    </div>\n",
    "    <br></br\n",
    "    <br></br>\n",
    "    <h1>Tutorial: <code>clim4health</code></h1>\n",
    "    <img src=\"dependencies/ghr_libraries/clim4health/tutorials/figures/general/logo_clim4health.svg\" width=\"100\" height=\"100\" style=\"margin-left:-475px; margin-top: -300px;\">\n",
    "\n",
    "\n",
    "</div>\n",
    "<hr style=\"border: 1px solid #000; width: 80%; margin: 20px auto;\">"
   ]
  },
  {
   "cell_type": "markdown",
   "id": "25746c1c-2814-40a6-b40f-628554225a68",
   "metadata": {
    "jp-MarkdownHeadingCollapsed": true
   },
   "source": [
    "# 🧭 Table of Contents\n",
    "Here’s what we’ll cover in this notebook:\n",
    "\n",
    "- [1. Introduction](#1.-Introduction)\n",
    "- [2. Setup and Data Loading](#2.-Setup-and-Data-Loading)\n",
    "- [3. Download data](#3.-Download-data)\n",
    "- [4. Load data](#4.-Load-data)\n",
    "- [5. Mask data](#5.-Mask-data)\n",
    "- [6. Time agregations](#6.-Time-agregations)\n",
    "- [7. Spatial agregations](#7.-Spatial-agregations)"
   ]
  },
  {
   "cell_type": "markdown",
   "id": "67ec0c41-65d0-461b-a84b-ddb0ef154148",
   "metadata": {},
   "source": [
    "---\n",
    "# 1. Introduction\n",
    "\n",
    "clim4health is a tool developed within the HARMONIZE project with the aim of post-processing climate data harmonized to the spatiotemporal aggregation of health data. The tool consists in an R-package and its documentation including examples on how to use the tool and recommendations of parameter selection in some case studies."
   ]
  },
  {
   "cell_type": "markdown",
   "id": "fcb5dfef-f5c6-4bf2-aa23-e9b319fbf1da",
   "metadata": {},
   "source": [
    "<img src=\"dependencies/ghr_libraries/clim4health/tutorials/figures/general/clim4health_structure.png\" width=\"800px\" height=\"500px\" />"
   ]
  },
  {
   "cell_type": "markdown",
   "id": "8def35b6-229c-4196-8909-d1af7bc632b7",
   "metadata": {},
   "source": [
    "---\n",
    "# 2. Setup and Data Loading"
   ]
  },
  {
   "cell_type": "code",
   "execution_count": null,
   "id": "f1230040-afb8-4214-9969-72d4ab6d8684",
   "metadata": {},
   "outputs": [],
   "source": [
    "options(warn = -1)"
   ]
  },
  {
   "cell_type": "code",
   "execution_count": 1,
   "id": "02781a4c-bad4-4b6e-a715-16b8487cfa4c",
   "metadata": {
    "scrolled": true
   },
   "outputs": [
    {
     "name": "stderr",
     "output_type": "stream",
     "text": [
      "Installing package into 'C:/Users/rcapella/AppData/Local/R/win-library/4.4'\n",
      "(as 'lib' is unspecified)\n",
      "\n"
     ]
    },
    {
     "name": "stdout",
     "output_type": "stream",
     "text": [
      "package 'exactextractr' successfully unpacked and MD5 sums checked\n",
      "\n",
      "The downloaded binary packages are in\n",
      "\tC:\\Users\\rcapella\\AppData\\Local\\Temp\\Rtmpg1y11V\\downloaded_packages\n"
     ]
    },
    {
     "name": "stderr",
     "output_type": "stream",
     "text": [
      "Installing package into 'C:/Users/rcapella/AppData/Local/R/win-library/4.4'\n",
      "(as 'lib' is unspecified)\n",
      "\n"
     ]
    },
    {
     "name": "stdout",
     "output_type": "stream",
     "text": [
      "package 'ecmwfr' successfully unpacked and MD5 sums checked\n",
      "\n",
      "The downloaded binary packages are in\n",
      "\tC:\\Users\\rcapella\\AppData\\Local\\Temp\\Rtmpg1y11V\\downloaded_packages\n"
     ]
    },
    {
     "name": "stderr",
     "output_type": "stream",
     "text": [
      "Warning message:\n",
      "\"package 'exactextractr' was built under R version 4.4.3\"\n",
      "Warning message:\n",
      "\"package 'ecmwfr' was built under R version 4.4.3\"\n",
      "Warning message:\n",
      "\"package 'sf' was built under R version 4.4.3\"\n",
      "Linking to GEOS 3.13.0, GDAL 3.10.1, PROJ 9.5.1; sf_use_s2() is TRUE\n",
      "\n",
      "\n",
      "Attaching package: 's2dv'\n",
      "\n",
      "\n",
      "The following object is masked from 'package:base':\n",
      "\n",
      "    Filter\n",
      "\n",
      "\n",
      "\n",
      "Attaching package: 'lubridate'\n",
      "\n",
      "\n",
      "The following objects are masked from 'package:base':\n",
      "\n",
      "    date, intersect, setdiff, union\n",
      "\n",
      "\n",
      "Loading required package: maps\n",
      "\n",
      "Loading required package: qmap\n",
      "\n",
      "Loading required package: fitdistrplus\n",
      "\n",
      "Loading required package: MASS\n",
      "\n",
      "Loading required package: survival\n",
      "\n",
      "Loading required package: easyVerification\n",
      "\n",
      "Loading required package: SpecsVerification\n",
      "\n",
      "\n",
      "Attaching package: 'SpecsVerification'\n",
      "\n",
      "\n",
      "The following object is masked from 'package:s2dv':\n",
      "\n",
      "    Corr\n",
      "\n",
      "\n",
      "\n",
      "Attaching package: 'easyVerification'\n",
      "\n",
      "\n",
      "The following object is masked from 'package:SpecsVerification':\n",
      "\n",
      "    EnsCorr\n",
      "\n",
      "\n",
      "Warning message:\n",
      "\"package 'ncdf4' was built under R version 4.4.3\"\n"
     ]
    }
   ],
   "source": [
    "setwd(\"dependencies/ghr_libraries/clim4health/\")\n",
    "path <- getwd()\n",
    "\n",
    "install.packages(\"exactextractr\")\n",
    "install.packages(\"ecmwfr\")\n",
    "\n",
    "library(exactextractr)\n",
    "library(ecmwfr)\n",
    "library(sf)\n",
    "\n",
    "source(paste0(path, '/functions/clim4health_load.R'))\n",
    "source(paste0(path, '/functions/clim4health_index.R'))\n",
    "source(paste0(path, '/functions/clim4health_time.R'))\n",
    "source(paste0(path, '/functions/clim4health_spatial.R'))\n",
    "source(paste0(path, '/functions/clim4health_get.R')) "
   ]
  },
  {
   "cell_type": "markdown",
   "id": "5b1df9ad-cac3-4fdd-b46c-c7eccea70fb3",
   "metadata": {},
   "source": [
    "---\n",
    "# 3. Download data"
   ]
  },
  {
   "cell_type": "code",
   "execution_count": 2,
   "id": "b0b172c1-8e54-4844-b707-8f5f278a5a1e",
   "metadata": {
    "scrolled": true
   },
   "outputs": [],
   "source": [
    "clim4health_get(pat = \"1d6e6015-97b6-438f-848f-d8ac628d2014\",\n",
    "                dataset = \"reanalysis-era5-land-monthly-means\",\n",
    "                product_type = \"monthly_averaged_reanalysis\",\n",
    "                variable = \"2m_temperature\",\n",
    "                year = c(2010, 2011, 2012),\n",
    "                month = c(4, 5),\n",
    "                area = c(33, -93, -23, -17),\n",
    "                outname = \"era5land\")"
   ]
  },
  {
   "cell_type": "markdown",
   "id": "a827e8e8-bae8-4760-b2b3-39903a0fa0c7",
   "metadata": {},
   "source": [
    "---\n",
    "# 4. Load data"
   ]
  },
  {
   "cell_type": "code",
   "execution_count": 3,
   "id": "7403acd1-9d04-4199-897c-25316bf18c98",
   "metadata": {
    "scrolled": true
   },
   "outputs": [
    {
     "name": "stderr",
     "output_type": "stream",
     "text": [
      "Warning message:\n",
      "\"! Warning: Parameter 'merge_across_dims' is changed to FALSE because there is no\n",
      "!   *_across argument.\"\n",
      "Warning message:\n",
      "\"! Warning: Parameter 'pattern_dims' not specified. Taking the first dimension,\n",
      "!   'dataset' as 'pattern_dims'.\"\n",
      "Warning message:\n",
      "\"! Warning: Could not find any pattern dim with explicit data set descriptions (in\n",
      "!   the form of list of lists). Taking the first pattern dim, 'dataset',\n",
      "!   as dimension with pattern specifications.\"\n",
      "Warning message:\n",
      "\"! Warning: Found dimension 'latitude' is required to reorder but no 'latitude_var'\n",
      "!   provided. \"latitude_var = 'latitude'\" has been automatically added\n",
      "!   to the Start call.\"\n",
      "Warning message:\n",
      "\"! Warning: Found dimension 'longitude' is required to reorder but no\n",
      "!   'longitude_var' provided. \"longitude_var = 'longitude'\" has been\n",
      "!   automatically added to the Start call.\"\n",
      "Warning message:\n",
      "\"! Warning: Not found any dimensions able to be split. The parameter\n",
      "!   'split_multiselected_dims' is changed to FALSE.\"\n",
      "Warning message:\n",
      "\"! Warning: Parameter 'pattern_dims' not specified. Taking the first dimension,\n",
      "!   'dataset' as 'pattern_dims'.\"\n",
      "Warning message:\n",
      "\"! Warning: Could not find any pattern dim with explicit data set descriptions (in\n",
      "!   the form of list of lists). Taking the first pattern dim, 'dataset',\n",
      "!   as dimension with pattern specifications.\"\n",
      "* Exploring files... This will take a variable amount of time depending\n",
      "*   on the issued request and the performance of the file server...\n",
      "\n",
      "Warning message:\n",
      "\"! Warning: Found dimension 'latitude' is required to reorder but no 'latitude_var'\n",
      "!   provided. \"latitude_var = 'latitude'\" has been automatically added\n",
      "!   to the Start call.\"\n",
      "Warning message:\n",
      "\"! Warning: Found dimension 'longitude' is required to reorder but no\n",
      "!   'longitude_var' provided. \"longitude_var = 'longitude'\" has been\n",
      "!   automatically added to the Start call.\"\n",
      "Warning message:\n",
      "\"! Warning: Not found any dimensions able to be split. The parameter\n",
      "!   'split_multiselected_dims' is changed to FALSE.\"\n",
      "* Detected dimension sizes:\n",
      "\n",
      "*     dataset:  1\n",
      "\n",
      "*         var:  1\n",
      "\n",
      "*        time:  3\n",
      "\n",
      "*    ensemble: 51\n",
      "\n",
      "*    latitude: 57\n",
      "\n",
      "*   longitude: 77\n",
      "\n",
      "* Total size of requested data:\n",
      "\n",
      "*   1 x 1 x 3 x 51 x 57 x 77 x 8 bytes = 5.1 Mb\n",
      "\n",
      "* If the size of the requested data is close to or above the free shared\n",
      "*   RAM memory, R may crash.\n",
      "\n",
      "* If the size of the requested data is close to or above the half of the\n",
      "*   free RAM memory, R may crash.\n",
      "\n",
      "* Will now proceed to read and process 1 data files:\n",
      "\n",
      "*   ./sample_data/ecmwf51/forecast/t2m_20240401.nc\n",
      "\n",
      "* Loading... This may take several minutes...\n",
      "\n",
      "* Successfully retrieved data.\n",
      "\n"
     ]
    }
   ],
   "source": [
    "data <- clim4health_load('./sample_data/ecmwf51/forecast/',var = \"t2m\", \n",
    "                         data_type = \"fcst\", sdates = \"20240401\", ext = 'nc')"
   ]
  },
  {
   "cell_type": "markdown",
   "id": "8ad8575d-282b-4b93-8f0b-a573cf5427c9",
   "metadata": {},
   "source": [
    "---\n",
    "# 5. Mask data"
   ]
  },
  {
   "cell_type": "code",
   "execution_count": 4,
   "id": "e680faf6-931a-4755-bacb-e4865170e16f",
   "metadata": {},
   "outputs": [
    {
     "data": {
      "image/png": "[encoded data removed]",
      "text/plain": [
       "Plot with title \"Temperature (C)\""
      ]
     },
     "metadata": {
      "image/png": {
       "height": 420,
       "width": 420
      }
     },
     "output_type": "display_data"
    }
   ],
   "source": [
    "mask <- clim4health_index(data, mod_vals = TRUE,  lower_threshold = 280, upper_threshold = 290, lower_close = FALSE, upper_close = FALSE)\n",
    "\n",
    "PlotEquiMap(var = mask$data[1, 1, 1, 1, , ],\n",
    "            lat = mask$coords$latitude,\n",
    "            lon = mask$coords$longitude,\n",
    "            filled.continents = FALSE,\n",
    "            units = 'Temperature (C)', # text to appear in the legend\n",
    "            toptitle = 'Mask temperature between 280 and 290 K', # text to appear as overall title\n",
    "            colNA = '#ffffff'\n",
    "            )"
   ]
  },
  {
   "cell_type": "markdown",
   "id": "388df7dd-6488-496c-92d7-a5e879dca587",
   "metadata": {},
   "source": [
    "---\n",
    "# 6. Time agregations"
   ]
  },
  {
   "cell_type": "code",
   "execution_count": 5,
   "id": "60971834-1e2e-4803-b084-7c54c5069d76",
   "metadata": {},
   "outputs": [
    {
     "data": {
      "image/png": "[encoded data removed]",
      "text/plain": [
       "Plot with title \"Temperature (C)\""
      ]
     },
     "metadata": {
      "image/png": {
       "height": 420,
       "width": 420
      }
     },
     "output_type": "display_data"
    }
   ],
   "source": [
    "daily_data <- clim4health_time(data, aggregation = \"daily\")\n",
    "\n",
    "PlotEquiMap(var = daily_data$data[1, 1, 1, 1, , ],\n",
    "            lat = data$coords$latitude,\n",
    "            lon = data$coords$longitude,\n",
    "            filled.continents = FALSE,\n",
    "            units = 'Temperature (C)', # text to appear in the legend\n",
    "            toptitle = 'Mean daily t2m', # text to appear as overall title\n",
    "            colNA = '#ffffff'\n",
    "            )"
   ]
  },
  {
   "cell_type": "code",
   "execution_count": 6,
   "id": "8d95cc8b-e09a-4e38-ac4d-c15c406463f4",
   "metadata": {},
   "outputs": [
    {
     "data": {
      "image/png": "[encoded data removed]",
      "text/plain": [
       "Plot with title \"Temperature (C)\""
      ]
     },
     "metadata": {
      "image/png": {
       "height": 420,
       "width": 420
      }
     },
     "output_type": "display_data"
    }
   ],
   "source": [
    "yearly_data <- clim4health_time(data, aggregation = \"yearly\")\n",
    "\n",
    " PlotEquiMap(var = yearly_data$data[1, 1, 1, 1,  , ],\n",
    "            lat = data$coords$latitude,\n",
    "            lon = data$coords$longitude,\n",
    "            filled.continents = FALSE,\n",
    "            units = 'Temperature (C)', # text to appear in the legend\n",
    "            toptitle = 'Mean yearly t2m', # text to appear as overall title\n",
    "            colNA = '#ffffff'\n",
    "            )"
   ]
  },
  {
   "cell_type": "markdown",
   "id": "dc3a9c0c-6e2f-4a2a-9422-aa3677a3864b",
   "metadata": {},
   "source": [
    "---\n",
    "# 7. Spatial agregations"
   ]
  },
  {
   "cell_type": "code",
   "execution_count": 7,
   "id": "ebd93b06-fd7c-4ac6-bac5-2ff82ab04726",
   "metadata": {},
   "outputs": [
    {
     "name": "stdout",
     "output_type": "stream",
     "text": [
      "Reading layer `MGN_ANM_MPIOS' from data source \n",
      "  `C:\\Users\\rcapella\\Documents\\GitHub\\personal_project\\Training_CARPHA\\dependencies\\ghr_libraries\\clim4health\\sample_data\\shapefiles\\MGN_ANM_MPIOS.shp' \n",
      "  using driver `ESRI Shapefile'\n",
      "Simple feature collection with 1122 features and 90 fields\n",
      "Geometry type: MULTIPOLYGON\n",
      "Dimension:     XY\n",
      "Bounding box:  xmin: -81.73562 ymin: -4.229406 xmax: -66.84722 ymax: 13.39473\n",
      "Geodetic CRS:  MAGNA-SIRGAS\n"
     ]
    },
    {
     "name": "stderr",
     "output_type": "stream",
     "text": [
      "Warning message in CPL_crs_from_input(x):\n",
      "\"GDAL Message 1: +init=epsg:XXXX syntax is deprecated. It might return a CRS with a non-EPSG compliant axis order.\"\n"
     ]
    },
    {
     "name": "stdout",
     "output_type": "stream",
     "text": [
      "  |======================================================================| 100%\n"
     ]
    },
    {
     "data": {
      "text/html": [
       "<style>\n",
       ".dl-inline {width: auto; margin:0; padding: 0}\n",
       ".dl-inline>dt, .dl-inline>dd {float: none; width: auto; display: inline-block}\n",
       ".dl-inline>dt::after {content: \":\\0020\"; padding-right: .5ex}\n",
       ".dl-inline>dt:not(:first-of-type) {padding-left: .5ex}\n",
       "</style><dl class=dl-inline><dt>dataset</dt><dd>1</dd><dt>var</dt><dd>1</dd><dt>time</dt><dd>3</dd><dt>ensemble</dt><dd>51</dd><dt>region</dt><dd>1122</dd></dl>\n"
      ],
      "text/latex": [
       "\\begin{description*}\n",
       "\\item[dataset] 1\n",
       "\\item[var] 1\n",
       "\\item[time] 3\n",
       "\\item[ensemble] 51\n",
       "\\item[region] 1122\n",
       "\\end{description*}\n"
      ],
      "text/markdown": [
       "dataset\n",
       ":   1var\n",
       ":   1time\n",
       ":   3ensemble\n",
       ":   51region\n",
       ":   1122\n",
       "\n"
      ],
      "text/plain": [
       " dataset      var     time ensemble   region \n",
       "       1        1        3       51     1122 "
      ]
     },
     "metadata": {},
     "output_type": "display_data"
    }
   ],
   "source": [
    "shp_file <- paste0(path, \"/sample_data/shapefiles/MGN_ANM_MPIOS.shp\")\n",
    "result   <- clim4health_spatial(data,  shp_file)\n",
    "\n",
    "dim(result)"
   ]
  }
 ],
 "metadata": {
  "kernelspec": {
   "display_name": "R",
   "language": "R",
   "name": "ir"
  },
  "language_info": {
   "codemirror_mode": "r",
   "file_extension": ".r",
   "mimetype": "text/x-r-source",
   "name": "R",
   "pygments_lexer": "r",
   "version": "4.4.2"
  }
 },
 "nbformat": 4,
 "nbformat_minor": 5
}
